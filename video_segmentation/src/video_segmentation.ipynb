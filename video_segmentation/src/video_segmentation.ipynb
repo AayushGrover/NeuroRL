{
 "cells": [
  {
   "cell_type": "code",
   "execution_count": 1,
   "metadata": {},
   "outputs": [],
   "source": [
    "import numpy as np\n",
    "import cv2 as cv\n",
    "import torch\n",
    "import os\n",
    "from glob import glob"
   ]
  },
  {
   "cell_type": "code",
   "execution_count": 2,
   "metadata": {},
   "outputs": [],
   "source": [
    "l=[]\n",
    "\n",
    "for file in sorted(glob('./Kanniya/Segment01-segmentation/*.jpg')):\n",
    "    img = cv.imread(file)\n",
    "    l.append(img)\n"
   ]
  },
  {
   "cell_type": "code",
   "execution_count": 3,
   "metadata": {},
   "outputs": [],
   "source": [
    "def dist(img1, img2):\n",
    "    img1 = img1/np.linalg.norm(img1)\n",
    "    img2 = img2/np.linalg.norm(img2)\n",
    "    img1 = img1.flatten()\n",
    "    img2 = img2.flatten()\n",
    "    return 1 - np.matmul(np.transpose(img1), img2)"
   ]
  },
  {
   "cell_type": "code",
   "execution_count": 20,
   "metadata": {},
   "outputs": [
    {
     "name": "stdout",
     "output_type": "stream",
     "text": "103\n"
    }
   ],
   "source": [
    "delta = 0.3\n",
    "segments = []\n",
    "segment = []\n",
    "for i in range(len(l)-2):\n",
    "#     print(dist(l[227], l[226]))\n",
    "#     break\n",
    "    diversity = dist(l[i], l[i+1]) + dist(l[i], l[i+2]) + dist(l[i+1], l[i+2])\n",
    "    if diversity > delta:\n",
    "        segment.append(l[i])\n",
    "        segments.append(segment)\n",
    "        segment = []\n",
    "        # cv.imwrite('./Kanniya/Segment01_output/image'+str(count).zfill(3)+'.jpg', l[i])\n",
    "        # count+=1\n",
    "        # cv.imwrite('./Kanniya/Segment01_output/image'+str(count).zfill(3)+'.jpg', l[i+1])\n",
    "        # count+=1\n",
    "    else:\n",
    "        segment.append(l[i])\n",
    "\n",
    "print(len(segments))"
   ]
  },
  {
   "cell_type": "code",
   "execution_count": 21,
   "metadata": {},
   "outputs": [],
   "source": [
    "segment_no = 0\n",
    "for segment in segments:\n",
    "    if len(segment) == 1:\n",
    "        continue\n",
    "    segment_no += 1\n",
    "    count = 1\n",
    "    path = './Kanniya/Segment01_'+str(segment_no).zfill(3)+'_output'\n",
    "    if not os.path.exists(path):\n",
    "        os.makedirs(path)\n",
    "    for img in segment:\n",
    "        cv.imwrite(path+'/image'+str(count).zfill(3)+'.jpg', img)\n",
    "        count += 1"
   ]
  },
  {
   "cell_type": "code",
   "execution_count": null,
   "metadata": {},
   "outputs": [],
   "source": []
  }
 ],
 "metadata": {
  "kernelspec": {
   "display_name": "Python 3",
   "language": "python",
   "name": "python3"
  },
  "language_info": {
   "codemirror_mode": {
    "name": "ipython",
    "version": 3
   },
   "file_extension": ".py",
   "mimetype": "text/x-python",
   "name": "python",
   "nbconvert_exporter": "python",
   "pygments_lexer": "ipython3",
   "version": "3.7.3-final"
  }
 },
 "nbformat": 4,
 "nbformat_minor": 2
}